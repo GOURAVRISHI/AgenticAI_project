{
 "cells": [
  {
   "cell_type": "markdown",
   "metadata": {
    "vscode": {
     "languageId": "plaintext"
    }
   },
   "source": [
    "### Phase 1: Introduction & Fundamentals\n",
    "\n",
    "[CrewAI Official Dumentation](https://docs.crewai.com/introduction)\n",
    "\n",
    "Important Concepts in Crew AI \n",
    "\n",
    "1.   Crew in crewAI represents a collaborative group of agents working together to achieve a set of tasks. Each crew defines the strategy for task execution, agent collaboration, and the overall workflow.\n",
    "2.   Agents is an autonomous unit that can perform specific tasks, Make decisions based on its role and goal, Communicate and collaborate with other agents, Maintain memory of interactions, and Delegate tasks when required.\n",
    "3.   Tasks is a specific assignment completed by an Agent.\n",
    "4.   LLM or Large Language Models (LLMs) are the core intelligence behind CrewAI agents.\n",
    "5.   Tools in CrewAI is a skill or function that agents can utilize to perform various actions. This includes tools from the CrewAI Toolkit and LangChain Tools, enabling everything from simple searches to complex interactions and effective teamwork among agents.\n"
   ]
  },
  {
   "cell_type": "code",
   "execution_count": null,
   "metadata": {},
   "outputs": [],
   "source": [
    "# Note: We have tested this application in google colab so please use groq api key. \n",
    "\n",
    "# Dependencies to install \n",
    "# Step 1: Install CrewAI, langchain_community, langchain_groq\n",
    "!pip install -q crewai langchain_community langchain_groq\n",
    "!pip install -Uq openai"
   ]
  },
  {
   "cell_type": "code",
   "execution_count": null,
   "metadata": {},
   "outputs": [],
   "source": [
    "from google.colab import userdata\n",
    "# openai_key = userdata.get('OPENAI_API_KEY')\n",
    "groq_key = userdata.get('GROQ_API_KEY')\n",
    "\n",
    "import os\n",
    "\n",
    "# os.environ[\"OPENAI_API_KEY\"] = openai_key\n",
    "os.environ[\"GROQ_API_KEY\"] = groq_key\n",
    "\n",
    "# from langchain_community.llms import ollama\n",
    "# model = ollama(model=\"llama3\")\n",
    "\n",
    "from langchain_groq import ChatGroq\n",
    "\n",
    "# llm=ChatGroq(model=\"qwen-qwq-32b\")\n",
    "\n",
    "# llm = ChatGroq(model=\"groq/llama3-8b-8192\")\n",
    "llm = ChatGroq(model=\"groq/llama3-70b-8192\")\n"
   ]
  },
  {
   "cell_type": "code",
   "execution_count": null,
   "metadata": {},
   "outputs": [],
   "source": [
    "from crewai import LLM\n",
    "\n",
    "# Basic configuration\n",
    "# llm = LLM(model=\"gpt-4\")\n",
    "\n",
    "# # Advanced configuration with detailed parameters\n",
    "# llm = LLM(\n",
    "#     model=\"gpt-4o-mini\",\n",
    "#     temperature=0.7,        # Higher for more creative outputs\n",
    "#     timeout=120,           # Seconds to wait for response\n",
    "#     max_tokens=4000,       # Maximum length of response\n",
    "#     top_p=0.9,            # Nucleus sampling parameter\n",
    "#     frequency_penalty=0.1, # Reduce repetition\n",
    "#     presence_penalty=0.1,  # Encourage topic diversity\n",
    "#     response_format={\"type\": \"json\"},  # For structured outputs\n",
    "#     seed=42               # For reproducible results\n",
    "# )\n",
    "\n",
    "# GROQ\n",
    "# llm = LLM(\n",
    "#     model=\"groq/llama-3.2-90b-text-preview\",\n",
    "#     temperature=0.7\n",
    "# )\n",
    "\n",
    "# # OLLAMA\n",
    "# llm = LLM(\n",
    "#     model=\"ollama/llama3:70b\",\n",
    "#     base_url=\"http://localhost:11434\"\n",
    "# )"
   ]
  },
  {
   "cell_type": "code",
   "execution_count": null,
   "metadata": {},
   "outputs": [],
   "source": [
    "# Step 2: Import necessary libraries\n",
    "from crewai import Agent, Task, Crew\n",
    "\n",
    "# One Agent can do multiple tasks. It can be sequential or hierarchical process. \n",
    "\n",
    "# Architecture of Crew AI \n",
    "# Crew -> Agent -> Process -> Task\n",
    "# Langgraph is heavy as compare to Agno and Crew AI."
   ]
  },
  {
   "cell_type": "code",
   "execution_count": null,
   "metadata": {},
   "outputs": [],
   "source": [
    "# Step 3: Define a simple agent\n",
    "agent1 = Agent(\n",
    "    name=\"Researcher\",\n",
    "    description=\"An AI agent that researches and gathers information about AI Tools.\",\n",
    "    goal=\"Find relevant information on a given topic.\",\n",
    "    role=\"Researcher\", # Added role\n",
    "    llm=llm,\n",
    "    backstory=\"An AI assistant designed for research tasks.\"  # Added backstory\n",
    ")"
   ]
  },
  {
   "cell_type": "code",
   "execution_count": null,
   "metadata": {},
   "outputs": [],
   "source": [
    "# Step 4: Create a simple task\n",
    "research_task = Task(\n",
    "    name=\"Research Task\",\n",
    "    description=\"Search for the latest advancements in AI and summarize them.\",\n",
    "    agent=agent1,\n",
    "    expected_output=\"A summary of the latest advancements in AI\" # Added expected output\n",
    ")"
   ]
  },
  {
   "cell_type": "code",
   "execution_count": null,
   "metadata": {},
   "outputs": [],
   "source": [
    "# Step 5: Initialize a crew (single agent for now)\n",
    "crew = Crew(agents=[agent1], tasks=[research_task])\n",
    "crew.kickoff()"
   ]
  },
  {
   "cell_type": "markdown",
   "metadata": {},
   "source": [
    "### Phase 3: Multi-Agent Collaboration & Workflows"
   ]
  },
  {
   "cell_type": "code",
   "execution_count": null,
   "metadata": {},
   "outputs": [],
   "source": [
    "# Step 6: Define multiple agents\n",
    "agent2 = Agent(\n",
    "    name=\"Writer\",\n",
    "    description=\"An AI agent that writes research reports.\",\n",
    "    goal=\"Create structured reports from gathered research data.\",\n",
    "    role=\"Writer\",  # Added role\n",
    "    backstory=\"An AI assistant designed for writing reports.\",  # Added backstory,\n",
    "    llm=llm\n",
    ")\n",
    "\n",
    "agent3 = Agent(\n",
    "    name=\"Reviewer\",\n",
    "    description=\"An AI agent that reviews and refines reports.\",\n",
    "    goal=\"Ensure clarity, grammar, and accuracy in written content.\",\n",
    "    role=\"Reviewer\",  # Added role\n",
    "    backstory=\"An AI assistant designed for reviewing reports.\",  # Added backstory,\n",
    "    llm=llm,\n",
    ")"
   ]
  },
  {
   "cell_type": "code",
   "execution_count": null,
   "metadata": {},
   "outputs": [],
   "source": [
    "# Step 7: Assign tasks to each agent\n",
    "gather_info = Task(\n",
    "    name=\"Gather Information\",\n",
    "    description=\"Find the latest research papers and summarize key findings.\",\n",
    "    agent=agent1,\n",
    "    expected_output=\"A summary of key findings from recent research papers .\"  # Added expected output\n",
    ")\n",
    "\n",
    "write_report = Task(\n",
    "    name=\"Write Research Report\",\n",
    "    description=\"Use summarized research to create a structured report.\",\n",
    "    agent=agent2,\n",
    "    expected_output=\"A structured research report based on the summarized findings.\"  # Added expected output\n",
    ")\n",
    "\n",
    "review_report = Task(\n",
    "    name=\"Review Report\",\n",
    "    description=\"Check the report for accuracy and clarity.\",\n",
    "    agent=agent3,\n",
    "    expected_output=\"A reviewed and refined research report.\"  # Added expected output\n",
    ")"
   ]
  },
  {
   "cell_type": "code",
   "execution_count": null,
   "metadata": {},
   "outputs": [],
   "source": [
    "# Step 8: Create a Crew with multiple agents\n",
    "multi_agent_crew = Crew(\n",
    "    agents=[agent1, agent2, agent3],\n",
    "    tasks=[gather_info, write_report, review_report]\n",
    ")\n",
    "\n",
    "multi_agent_crew.kickoff()"
   ]
  },
  {
   "cell_type": "code",
   "execution_count": null,
   "metadata": {},
   "outputs": [],
   "source": []
  },
  {
   "cell_type": "code",
   "execution_count": null,
   "metadata": {},
   "outputs": [],
   "source": []
  }
 ],
 "metadata": {
  "kernelspec": {
   "display_name": "Python 3",
   "language": "python",
   "name": "python3"
  },
  "language_info": {
   "name": "python",
   "version": "3.7.9"
  }
 },
 "nbformat": 4,
 "nbformat_minor": 2
}
